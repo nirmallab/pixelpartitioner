{
 "cells": [
  {
   "cell_type": "markdown",
   "metadata": {},
   "source": [
    "# 🐊 GATOR \n",
    "## Run the final `gator` algorithm\n",
    "#### Please keep in mind that the sample data is used for demonstration purposes only and has been simplified and reduced in size. It is solely intended for educational purposes on how to execute `Gator` and will not yeild any meaningful results."
   ]
  },
  {
   "cell_type": "markdown",
   "metadata": {},
   "source": [
    "#### Download the exemplar dataset and executable notebooks from HERE\n",
    "#### Make sure you have completed `Build Model and Apply Model` Tutorial before you try to execute this Jupyter Notebook!"
   ]
  },
  {
   "cell_type": "code",
   "execution_count": 2,
   "metadata": {},
   "outputs": [],
   "source": [
    "# import packages\n",
    "import gatorpy as ga\n",
    "import os"
   ]
  },
  {
   "cell_type": "markdown",
   "metadata": {},
   "source": [
    "### We need `two` basic input to run the third module of the gator algorithm\n",
    "- Pre-computed quantification table (spatial feature table)\n",
    "- DL Scores"
   ]
  },
  {
   "cell_type": "code",
   "execution_count": 3,
   "metadata": {},
   "outputs": [],
   "source": [
    "# set the working directory & set paths to the example data\n",
    "cwd = '/Users/aj/Desktop/gatorExampleData'\n",
    "# Module specific paths\n",
    "spatialTablePath = cwd + '/quantification/exampleSpatialTable.csv'\n",
    "gatorScorePath = cwd + '/GATOR/gatorScore/exampleImage_gatorPredict.ome.csv'"
   ]
  },
  {
   "cell_type": "markdown",
   "metadata": {},
   "source": [
    "## Step-1: Create a Gator object"
   ]
  },
  {
   "cell_type": "markdown",
   "metadata": {},
   "source": [
    "### We'll use the anndata framework to create a gator object to store all information in one file, making it easier to keep track of intermediate files generated in subsequent steps.  This helps streamline the data analysis process and reduces the risk of losing or misplacing information."
   ]
  },
  {
   "cell_type": "code",
   "execution_count": 4,
   "metadata": {},
   "outputs": [
    {
     "name": "stdout",
     "output_type": "stream",
     "text": [
      "Loading exampleSpatialTable.csv\n"
     ]
    }
   ],
   "source": [
    "# please note that there are a number of defaults in the below function that assumes certain structure within the spatialTable.\n",
    "# Please confirm it is similar with user data or modifiy the parameters accordingly\n",
    "# check out the documentation for further details\n",
    "adata = ga.gatorObject (spatialTablePath=spatialTablePath,\n",
    "                        gatorScorePath=gatorScorePath,\n",
    "                        CellId='CellID',\n",
    "                        uniqueCellId=True,\n",
    "                        split='X_centroid',\n",
    "                        removeDNA=True,\n",
    "                        remove_string_from_name=None,\n",
    "                        log=True,\n",
    "                        dropMarkers=None,\n",
    "                        outputDir=cwd)"
   ]
  },
  {
   "cell_type": "markdown",
   "metadata": {},
   "source": [
    "**Same function if the user wants to run it via Command Line Interface**\n",
    "```\n",
    "python gatorObject.py --spatialTablePath /Users/aj/Desktop/gatorExampleData/quantification/exampleSpatialTable.csv --gatorScorePath /Users/aj/Desktop/gatorExampleData/GATOR/DLScore/exampleProbabiltyMap.ome.csv --outputDir /Users/aj/Desktop/gatorExampleData"
   ]
  },
  {
   "cell_type": "markdown",
   "metadata": {},
   "source": [
    "#### If you had provided `outputDir` the object would be stored in `GATOR/gatorObject/`, else, the object will be returned to memory"
   ]
  },
  {
   "cell_type": "markdown",
   "metadata": {},
   "source": [
    "## Step-2: Run the Gator Algorithm"
   ]
  },
  {
   "cell_type": "markdown",
   "metadata": {},
   "source": [
    "### The `gator` algorithm is ready to run after pre-processing. To get optimal results, consider adjusting the following parameters:\n",
    "\n",
    "1. The `minAbundance` parameter determines the minimum percentage of a marker's abundance to consider it a failure.\n",
    "2. It is suggested to drop background markers with the `dropMarkers` option as they can interfere with classifiers.\n",
    "3. `RobustScale`: Scaling the data before training the classifier model has been shown to improve results. However, in our experience a simple log transformation was found to be sufficient. "
   ]
  },
  {
   "cell_type": "code",
   "execution_count": 5,
   "metadata": {},
   "outputs": [],
   "source": [
    "# set the working directory & set paths to the example data\n",
    "cwd = '/Users/aj/Desktop/gatorExampleData'\n",
    "gatorObject = cwd + '/GATOR/gatorObject/exampleImage_gatorPredict.ome.h5ad'"
   ]
  },
  {
   "cell_type": "code",
   "execution_count": 7,
   "metadata": {},
   "outputs": [],
   "source": [
    "adata = ga.gator ( gatorObject=gatorObject,\n",
    "                    gatorScore='gatorScore',\n",
    "                    minAbundance=0.002,\n",
    "                    percentiles=[1, 20, 80, 99],\n",
    "                    dropMarkers = None,\n",
    "                    RobustScale=False,\n",
    "                    log=True,\n",
    "                    x_coordinate='X_centroid',\n",
    "                    y_coordinate='Y_centroid',\n",
    "                    imageid='imageid',\n",
    "                    random_state=0,\n",
    "                    rescaleMethod='sigmoid',\n",
    "                    label='gatorOutput',\n",
    "                    silent=True,\n",
    "                    outputDir=cwd)"
   ]
  },
  {
   "cell_type": "markdown",
   "metadata": {},
   "source": [
    "**Same function if the user wants to run it via Command Line Interface**\n",
    "```\n",
    "python gator.py --gatorObject /Users/aj/Desktop/gatorExampleData/GATOR/gatorObject/exampleImage_gatorPredict.ome.h5ad --outputDir /Users/aj/Desktop/gatorExampleData\n",
    "```"
   ]
  },
  {
   "cell_type": "markdown",
   "metadata": {},
   "source": [
    "### If `outputDir` is provided, modified anndata object with results (stored in `adata.uns['gatorOutput']`) will be saved in `GATOR/gatorOutput/`. The gator-scaled data (stored in `adata.X`) considers cells above 0.5 as positive and below 0.5 as negative for the marker."
   ]
  },
  {
   "cell_type": "markdown",
   "metadata": {},
   "source": [
    "## Step-3: Merge multiple Gator objects (optional)"
   ]
  },
  {
   "cell_type": "markdown",
   "metadata": {},
   "source": [
    "### Use `mergeGatorObject` to combine multiple gatorObjects into a dataset for analysis when multiple images need to be analyzed.\n",
    "\n",
    "### Note that merging gatorObjects requires merging multiple sections, not simple concatenation. Use parameters to specify which parts of the gatorObjects to merge."
   ]
  },
  {
   "cell_type": "code",
   "execution_count": 8,
   "metadata": {},
   "outputs": [],
   "source": [
    "# set the working directory & set paths to the example data\n",
    "cwd = '/Users/aj/Desktop/gatorExampleData'\n",
    "gatorObjects = [cwd + '/GATOR/gatorOutput/exampleImage_gatorPredict.ome.h5ad',\n",
    "                cwd + '/GATOR/gatorOutput/exampleImage_gatorPredict.ome.h5ad']"
   ]
  },
  {
   "cell_type": "code",
   "execution_count": 10,
   "metadata": {},
   "outputs": [
    {
     "name": "stdout",
     "output_type": "stream",
     "text": [
      "Extracting data\n",
      "Extracting data from: exampleSpatialTable\n",
      "Extracting data from: exampleSpatialTable\n"
     ]
    },
    {
     "name": "stderr",
     "output_type": "stream",
     "text": [
      "/opt/anaconda3/envs/gator/lib/python3.9/site-packages/anndata/_core/anndata.py:1828: UserWarning: Observation names are not unique. To make them unique, call `.obs_names_make_unique`.\n",
      "  utils.warn_names_duplicates(\"obs\")\n"
     ]
    }
   ],
   "source": [
    "# For this tutorial, supply the same gatorObject twice for merging, but multiple gatorObjects can be merged in ideal conditions.\n",
    "adata = ga.mergeGatorObject ( gatorObjects=gatorObjects,\n",
    "                              fileName='mergedGatorObject',\n",
    "                              layers=['preProcessed'],\n",
    "                              uns= ['gatorOutput','gatorScore'],\n",
    "                              outputDir=cwd)"
   ]
  },
  {
   "cell_type": "markdown",
   "metadata": {},
   "source": [
    "**Same function if the user wants to run it via Command Line Interface**\n",
    "```\n",
    "python mergeGatorObject.py --gatorObjects /Users/aj/Desktop/gatorExampleData/GATOR/gatorOutput/exampleImage_gatorPredict.ome.h5ad /Users/aj/Desktop/gatorExampleData/GATOR/gatorOutput/exampleImage_gatorPredict.ome.h5ad --outputDir /Users/aj/Desktop/gatorExampleData\n",
    "```"
   ]
  },
  {
   "cell_type": "markdown",
   "metadata": {},
   "source": [
    "### If `outputDir` is provided, modified anndata object with results will be saved in `GATOR/mergedGatorObject/`."
   ]
  },
  {
   "cell_type": "code",
   "execution_count": 11,
   "metadata": {},
   "outputs": [],
   "source": [
    "# this tutorial ends here. Move to the Phenotyping cells Tutorial"
   ]
  },
  {
   "cell_type": "code",
   "execution_count": null,
   "metadata": {},
   "outputs": [],
   "source": []
  }
 ],
 "metadata": {
  "kernelspec": {
   "display_name": "Python 3 (ipykernel)",
   "language": "python",
   "name": "python3"
  },
  "language_info": {
   "codemirror_mode": {
    "name": "ipython",
    "version": 3
   },
   "file_extension": ".py",
   "mimetype": "text/x-python",
   "name": "python",
   "nbconvert_exporter": "python",
   "pygments_lexer": "ipython3",
   "version": "3.9.12"
  },
  "vscode": {
   "interpreter": {
    "hash": "4d975fac4fcc437c670ab44b5da89fd54fa784afb4bff9f75c9477844a77bbbe"
   }
  }
 },
 "nbformat": 4,
 "nbformat_minor": 2
}
